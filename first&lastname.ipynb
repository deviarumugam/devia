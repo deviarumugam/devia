{
 "cells": [
  {
   "cell_type": "code",
   "execution_count": 8,
   "metadata": {},
   "outputs": [
    {
     "name": "stdout",
     "output_type": "stream",
     "text": [
      "Enter your first name:devi\n",
      "Enter your last name:arumugam\n",
      "Name of the person:\n",
      "deviarumugam\n",
      "Reverse Name of the person:\n",
      "ived   magumura\n"
     ]
    }
   ],
   "source": [
    "first_name=input(\"Enter your first name:\")\n",
    "last_name=input(\"Enter your last name:\")\n",
    "print(\"Name of the person:\")\n",
    "print(first_name,end=\"\")\n",
    "print(last_name)\n",
    "first_name=first_name[-1::-1]\n",
    "last_name=last_name[-1::-1]\n",
    "print(\"Reverse Name of the person:\")\n",
    "print(first_name,\" \",last_name)"
   ]
  },
  {
   "cell_type": "code",
   "execution_count": null,
   "metadata": {},
   "outputs": [],
   "source": []
  }
 ],
 "metadata": {
  "kernelspec": {
   "display_name": "Python 3",
   "language": "python",
   "name": "python3"
  },
  "language_info": {
   "codemirror_mode": {
    "name": "ipython",
    "version": 3
   },
   "file_extension": ".py",
   "mimetype": "text/x-python",
   "name": "python",
   "nbconvert_exporter": "python",
   "pygments_lexer": "ipython3",
   "version": "3.7.4"
  }
 },
 "nbformat": 4,
 "nbformat_minor": 2
}
